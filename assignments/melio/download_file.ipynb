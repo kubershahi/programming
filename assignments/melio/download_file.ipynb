{
 "cells": [
  {
   "cell_type": "markdown",
   "id": "190def6d",
   "metadata": {},
   "source": [
    "## Melio Data Classifiability Assignment\n"
   ]
  },
  {
   "cell_type": "code",
   "execution_count": 3,
   "id": "ecc52063",
   "metadata": {},
   "outputs": [],
   "source": [
    "import boto3\n",
    "import os\n",
    "from dotenv import load_dotenv\n",
    "from botocore.exceptions import NoCredentialsError, ClientError"
   ]
  },
  {
   "cell_type": "code",
   "execution_count": 4,
   "id": "2e5d1c65",
   "metadata": {},
   "outputs": [
    {
     "name": "stdout",
     "output_type": "stream",
     "text": [
      "AWS S3 client initialized successfully!\n"
     ]
    }
   ],
   "source": [
    "# Load environment variables from .env file\n",
    "load_dotenv()\n",
    "\n",
    "# Get AWS credentials from environment variables\n",
    "AWS_ACCESS_KEY_ID = os.getenv('AWS_ACCESS_KEY_ID')\n",
    "AWS_SECRET_ACCESS_KEY = os.getenv('AWS_SECRET_ACCESS_KEY')\n",
    "AWS_REGION = os.getenv('AWS_REGION', 'us-east-1')  # Default region if not specified\n",
    "\n",
    "# Initialize S3 client\n",
    "try:\n",
    "    s3_client = boto3.client(\n",
    "        's3',\n",
    "        aws_access_key_id=AWS_ACCESS_KEY_ID,\n",
    "        aws_secret_access_key=AWS_SECRET_ACCESS_KEY,\n",
    "        region_name=AWS_REGION\n",
    "    )\n",
    "    print(\"AWS S3 client initialized successfully!\")\n",
    "except Exception as e:\n",
    "    print(f\"Error initializing S3 client: {e}\")"
   ]
  },
  {
   "cell_type": "code",
   "execution_count": null,
   "id": "ecc52063",
   "metadata": {},
   "outputs": [
    {
     "name": "stdout",
     "output_type": "stream",
     "text": [
      "Successfully downloaded: melt-csv-sample.zip -> ./data/melt-csv-sample.zip\n"
     ]
    },
    {
     "data": {
      "text/plain": [
       "True"
      ]
     },
     "execution_count": 5,
     "metadata": {},
     "output_type": "execute_result"
    }
   ],
   "source": [
    "def download_file_from_s3(bucket_name, s3_key, local_file_path):\n",
    "    \"\"\"\n",
    "    Download a single file from AWS S3\n",
    "    \n",
    "    Args:\n",
    "        bucket_name (str): Name of the S3 bucket\n",
    "        s3_key (str): S3 object key (file path in S3)\n",
    "        local_file_path (str): Local path where the file will be saved\n",
    "    \n",
    "    Returns:\n",
    "        bool: True if successful, False otherwise\n",
    "    \"\"\"\n",
    "    try:\n",
    "        # Create directory if it doesn't exist\n",
    "        os.makedirs(os.path.dirname(local_file_path), exist_ok=True)\n",
    "        \n",
    "        # Download the file\n",
    "        s3_client.download_file(bucket_name, s3_key, local_file_path)\n",
    "        print(f\"Successfully downloaded: {s3_key} -> {local_file_path}\")\n",
    "        return True\n",
    "        \n",
    "    except FileNotFoundError:\n",
    "        print(f\"The file {s3_key} was not found in bucket {bucket_name}\")\n",
    "        return False\n",
    "    except NoCredentialsError:\n",
    "        print(\"Credentials not available\")\n",
    "        return False\n",
    "    except ClientError as e:\n",
    "        error_code = e.response['Error']['Code']\n",
    "        if error_code == 'NoSuchBucket':\n",
    "            print(f\"Bucket {bucket_name} does not exist\")\n",
    "        elif error_code == 'NoSuchKey':\n",
    "            print(f\"File {s3_key} does not exist in bucket {bucket_name}\")\n",
    "        else:\n",
    "            print(f\"Error downloading file: {e}\")\n",
    "        return False\n",
    "    except Exception as e:\n",
    "        print(f\"Unexpected error: {e}\")\n",
    "        return False\n",
    "    \n",
    "bucket_name = \"dna-image-repo\"\n",
    "s3_key = \"melt-csv-sample.zip\"\n",
    "local_path = \"./data/melt-csv-sample.zip\"\n",
    "download_file_from_s3(bucket_name, s3_key, local_path)"
   ]
  },
  {
   "cell_type": "code",
   "execution_count": null,
   "id": "62a09336",
   "metadata": {},
   "outputs": [],
   "source": []
  }
 ],
 "metadata": {
  "kernelspec": {
   "display_name": "grad",
   "language": "python",
   "name": "python3"
  },
  "language_info": {
   "codemirror_mode": {
    "name": "ipython",
    "version": 3
   },
   "file_extension": ".py",
   "mimetype": "text/x-python",
   "name": "python",
   "nbconvert_exporter": "python",
   "pygments_lexer": "ipython3",
   "version": "3.10.17"
  }
 },
 "nbformat": 4,
 "nbformat_minor": 5
}
